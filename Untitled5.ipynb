{
 "cells": [
  {
   "cell_type": "code",
   "execution_count": 639,
   "metadata": {
    "colab": {
     "base_uri": "https://localhost:8080/"
    },
    "id": "Ho9gK5er3n9h",
    "outputId": "1a5b66c9-bf81-425e-cc14-3b38c586a765"
   },
   "outputs": [
    {
     "name": "stdout",
     "output_type": "stream",
     "text": [
      "Drive already mounted at /content/gdrive; to attempt to forcibly remount, call drive.mount(\"/content/gdrive\", force_remount=True).\n"
     ]
    }
   ],
   "source": [
    "from google.colab import drive\n",
    "drive.mount('/content/gdrive')"
   ]
  },
  {
   "cell_type": "code",
   "execution_count": 1,
   "metadata": {
    "id": "jbVQx_IJ5cnt"
   },
   "outputs": [],
   "source": [
    "import pandas as pd\n",
    "import numpy as np"
   ]
  },
  {
   "cell_type": "code",
   "execution_count": 8,
   "metadata": {
    "id": "uz73QvNv3kBJ"
   },
   "outputs": [],
   "source": [
    "df = pd.read_csv(r'C:\\Users\\Win7Ult\\Downloads/gold_eda.csv')"
   ]
  },
  {
   "cell_type": "code",
   "execution_count": null,
   "metadata": {},
   "outputs": [],
   "source": []
  },
  {
   "cell_type": "code",
   "execution_count": 9,
   "metadata": {
    "colab": {
     "base_uri": "https://localhost:8080/",
     "height": 419
    },
    "id": "r6cRP3W53mh4",
    "outputId": "1fcc5888-b8c0-456a-914d-a7d1754c4909"
   },
   "outputs": [
    {
     "data": {
      "text/html": [
       "<div>\n",
       "<style scoped>\n",
       "    .dataframe tbody tr th:only-of-type {\n",
       "        vertical-align: middle;\n",
       "    }\n",
       "\n",
       "    .dataframe tbody tr th {\n",
       "        vertical-align: top;\n",
       "    }\n",
       "\n",
       "    .dataframe thead th {\n",
       "        text-align: right;\n",
       "    }\n",
       "</style>\n",
       "<table border=\"1\" class=\"dataframe\">\n",
       "  <thead>\n",
       "    <tr style=\"text-align: right;\">\n",
       "      <th></th>\n",
       "      <th>Unnamed: 0</th>\n",
       "      <th>Date</th>\n",
       "      <th>gold_rate</th>\n",
       "    </tr>\n",
       "  </thead>\n",
       "  <tbody>\n",
       "    <tr>\n",
       "      <th>0</th>\n",
       "      <td>0</td>\n",
       "      <td>1968-04-01</td>\n",
       "      <td>38.00</td>\n",
       "    </tr>\n",
       "    <tr>\n",
       "      <th>1</th>\n",
       "      <td>1</td>\n",
       "      <td>1968-04-02</td>\n",
       "      <td>37.60</td>\n",
       "    </tr>\n",
       "    <tr>\n",
       "      <th>2</th>\n",
       "      <td>2</td>\n",
       "      <td>1968-04-03</td>\n",
       "      <td>37.70</td>\n",
       "    </tr>\n",
       "    <tr>\n",
       "      <th>3</th>\n",
       "      <td>3</td>\n",
       "      <td>1968-04-04</td>\n",
       "      <td>36.70</td>\n",
       "    </tr>\n",
       "    <tr>\n",
       "      <th>4</th>\n",
       "      <td>4</td>\n",
       "      <td>1968-04-05</td>\n",
       "      <td>37.20</td>\n",
       "    </tr>\n",
       "    <tr>\n",
       "      <th>...</th>\n",
       "      <td>...</td>\n",
       "      <td>...</td>\n",
       "      <td>...</td>\n",
       "    </tr>\n",
       "    <tr>\n",
       "      <th>13903</th>\n",
       "      <td>13903</td>\n",
       "      <td>2021-07-15</td>\n",
       "      <td>1832.00</td>\n",
       "    </tr>\n",
       "    <tr>\n",
       "      <th>13904</th>\n",
       "      <td>13904</td>\n",
       "      <td>2021-07-16</td>\n",
       "      <td>1822.00</td>\n",
       "    </tr>\n",
       "    <tr>\n",
       "      <th>13905</th>\n",
       "      <td>13905</td>\n",
       "      <td>2021-07-19</td>\n",
       "      <td>1803.25</td>\n",
       "    </tr>\n",
       "    <tr>\n",
       "      <th>13906</th>\n",
       "      <td>13906</td>\n",
       "      <td>2021-07-20</td>\n",
       "      <td>1815.30</td>\n",
       "    </tr>\n",
       "    <tr>\n",
       "      <th>13907</th>\n",
       "      <td>13907</td>\n",
       "      <td>2021-07-21</td>\n",
       "      <td>1805.90</td>\n",
       "    </tr>\n",
       "  </tbody>\n",
       "</table>\n",
       "<p>13908 rows × 3 columns</p>\n",
       "</div>"
      ],
      "text/plain": [
       "       Unnamed: 0        Date  gold_rate\n",
       "0               0  1968-04-01      38.00\n",
       "1               1  1968-04-02      37.60\n",
       "2               2  1968-04-03      37.70\n",
       "3               3  1968-04-04      36.70\n",
       "4               4  1968-04-05      37.20\n",
       "...           ...         ...        ...\n",
       "13903       13903  2021-07-15    1832.00\n",
       "13904       13904  2021-07-16    1822.00\n",
       "13905       13905  2021-07-19    1803.25\n",
       "13906       13906  2021-07-20    1815.30\n",
       "13907       13907  2021-07-21    1805.90\n",
       "\n",
       "[13908 rows x 3 columns]"
      ]
     },
     "execution_count": 9,
     "metadata": {},
     "output_type": "execute_result"
    }
   ],
   "source": [
    "df"
   ]
  },
  {
   "cell_type": "code",
   "execution_count": 10,
   "metadata": {
    "id": "gxyGVU13AMCD"
   },
   "outputs": [],
   "source": [
    "df=df.iloc[:,1:]"
   ]
  },
  {
   "cell_type": "code",
   "execution_count": 11,
   "metadata": {
    "colab": {
     "base_uri": "https://localhost:8080/",
     "height": 419
    },
    "id": "-K1ZtMzSBDSW",
    "outputId": "d194853e-aeb2-407d-8cdf-c0ac0e1910a6"
   },
   "outputs": [
    {
     "data": {
      "text/html": [
       "<div>\n",
       "<style scoped>\n",
       "    .dataframe tbody tr th:only-of-type {\n",
       "        vertical-align: middle;\n",
       "    }\n",
       "\n",
       "    .dataframe tbody tr th {\n",
       "        vertical-align: top;\n",
       "    }\n",
       "\n",
       "    .dataframe thead th {\n",
       "        text-align: right;\n",
       "    }\n",
       "</style>\n",
       "<table border=\"1\" class=\"dataframe\">\n",
       "  <thead>\n",
       "    <tr style=\"text-align: right;\">\n",
       "      <th></th>\n",
       "      <th>Date</th>\n",
       "      <th>gold_rate</th>\n",
       "    </tr>\n",
       "  </thead>\n",
       "  <tbody>\n",
       "    <tr>\n",
       "      <th>0</th>\n",
       "      <td>1968-04-01</td>\n",
       "      <td>38.00</td>\n",
       "    </tr>\n",
       "    <tr>\n",
       "      <th>1</th>\n",
       "      <td>1968-04-02</td>\n",
       "      <td>37.60</td>\n",
       "    </tr>\n",
       "    <tr>\n",
       "      <th>2</th>\n",
       "      <td>1968-04-03</td>\n",
       "      <td>37.70</td>\n",
       "    </tr>\n",
       "    <tr>\n",
       "      <th>3</th>\n",
       "      <td>1968-04-04</td>\n",
       "      <td>36.70</td>\n",
       "    </tr>\n",
       "    <tr>\n",
       "      <th>4</th>\n",
       "      <td>1968-04-05</td>\n",
       "      <td>37.20</td>\n",
       "    </tr>\n",
       "    <tr>\n",
       "      <th>...</th>\n",
       "      <td>...</td>\n",
       "      <td>...</td>\n",
       "    </tr>\n",
       "    <tr>\n",
       "      <th>13903</th>\n",
       "      <td>2021-07-15</td>\n",
       "      <td>1832.00</td>\n",
       "    </tr>\n",
       "    <tr>\n",
       "      <th>13904</th>\n",
       "      <td>2021-07-16</td>\n",
       "      <td>1822.00</td>\n",
       "    </tr>\n",
       "    <tr>\n",
       "      <th>13905</th>\n",
       "      <td>2021-07-19</td>\n",
       "      <td>1803.25</td>\n",
       "    </tr>\n",
       "    <tr>\n",
       "      <th>13906</th>\n",
       "      <td>2021-07-20</td>\n",
       "      <td>1815.30</td>\n",
       "    </tr>\n",
       "    <tr>\n",
       "      <th>13907</th>\n",
       "      <td>2021-07-21</td>\n",
       "      <td>1805.90</td>\n",
       "    </tr>\n",
       "  </tbody>\n",
       "</table>\n",
       "<p>13908 rows × 2 columns</p>\n",
       "</div>"
      ],
      "text/plain": [
       "             Date  gold_rate\n",
       "0      1968-04-01      38.00\n",
       "1      1968-04-02      37.60\n",
       "2      1968-04-03      37.70\n",
       "3      1968-04-04      36.70\n",
       "4      1968-04-05      37.20\n",
       "...           ...        ...\n",
       "13903  2021-07-15    1832.00\n",
       "13904  2021-07-16    1822.00\n",
       "13905  2021-07-19    1803.25\n",
       "13906  2021-07-20    1815.30\n",
       "13907  2021-07-21    1805.90\n",
       "\n",
       "[13908 rows x 2 columns]"
      ]
     },
     "execution_count": 11,
     "metadata": {},
     "output_type": "execute_result"
    }
   ],
   "source": [
    "df"
   ]
  },
  {
   "cell_type": "code",
   "execution_count": 12,
   "metadata": {
    "id": "3597FPKZCJRT"
   },
   "outputs": [],
   "source": [
    "df = df.set_index('Date')"
   ]
  },
  {
   "cell_type": "code",
   "execution_count": 13,
   "metadata": {
    "id": "TUPkVK6yIN35"
   },
   "outputs": [],
   "source": [
    "from sklearn.preprocessing import MinMaxScaler"
   ]
  },
  {
   "cell_type": "code",
   "execution_count": 14,
   "metadata": {
    "id": "aUybaqOYI5_X"
   },
   "outputs": [],
   "source": [
    "from sklearn.metrics import r2_score"
   ]
  },
  {
   "cell_type": "code",
   "execution_count": 15,
   "metadata": {
    "id": "3veOwxhZiXGw"
   },
   "outputs": [],
   "source": [
    "from sklearn.metrics import mean_absolute_error\n",
    "from sklearn.metrics import mean_squared_error"
   ]
  },
  {
   "cell_type": "code",
   "execution_count": 18,
   "metadata": {},
   "outputs": [
    {
     "name": "stdout",
     "output_type": "stream",
     "text": [
      "Note: you may need to restart the kernel to use updated packages.\n"
     ]
    },
    {
     "name": "stderr",
     "output_type": "stream",
     "text": [
      "ERROR: Could not find a version that satisfies the requirement tensorflow\n",
      "ERROR: No matching distribution found for tensorflow\n",
      "WARNING: You are using pip version 21.0.1; however, version 21.2.4 is available.\n",
      "You should consider upgrading via the 'C:\\Users\\Win7Ult\\anaconda3\\python.exe -m pip install --upgrade pip' command.\n"
     ]
    }
   ],
   "source": [
    "pip install tensorflow"
   ]
  },
  {
   "cell_type": "code",
   "execution_count": 16,
   "metadata": {
    "id": "PPT-ri-9SM_O"
   },
   "outputs": [
    {
     "ename": "ModuleNotFoundError",
     "evalue": "No module named 'tensorflow'",
     "output_type": "error",
     "traceback": [
      "\u001b[1;31m---------------------------------------------------------------------------\u001b[0m",
      "\u001b[1;31mModuleNotFoundError\u001b[0m                       Traceback (most recent call last)",
      "\u001b[1;32m<ipython-input-16-5904080d776c>\u001b[0m in \u001b[0;36m<module>\u001b[1;34m\u001b[0m\n\u001b[0;32m      1\u001b[0m \u001b[1;31m### Create the LSTM model\u001b[0m\u001b[1;33m\u001b[0m\u001b[1;33m\u001b[0m\u001b[1;33m\u001b[0m\u001b[0m\n\u001b[1;32m----> 2\u001b[1;33m \u001b[1;32mfrom\u001b[0m \u001b[0mtensorflow\u001b[0m\u001b[1;33m.\u001b[0m\u001b[0mkeras\u001b[0m\u001b[1;33m.\u001b[0m\u001b[0mmodels\u001b[0m \u001b[1;32mimport\u001b[0m \u001b[0mSequential\u001b[0m\u001b[1;33m\u001b[0m\u001b[1;33m\u001b[0m\u001b[0m\n\u001b[0m\u001b[0;32m      3\u001b[0m \u001b[1;32mfrom\u001b[0m \u001b[0mtensorflow\u001b[0m\u001b[1;33m.\u001b[0m\u001b[0mkeras\u001b[0m\u001b[1;33m.\u001b[0m\u001b[0mlayers\u001b[0m \u001b[1;32mimport\u001b[0m \u001b[0mDense\u001b[0m\u001b[1;33m\u001b[0m\u001b[1;33m\u001b[0m\u001b[0m\n\u001b[0;32m      4\u001b[0m \u001b[1;32mfrom\u001b[0m \u001b[0mtensorflow\u001b[0m\u001b[1;33m.\u001b[0m\u001b[0mkeras\u001b[0m\u001b[1;33m.\u001b[0m\u001b[0mlayers\u001b[0m \u001b[1;32mimport\u001b[0m \u001b[0mLSTM\u001b[0m\u001b[1;33m\u001b[0m\u001b[1;33m\u001b[0m\u001b[0m\n\u001b[0;32m      5\u001b[0m \u001b[1;32mimport\u001b[0m \u001b[0mmatplotlib\u001b[0m\u001b[1;33m.\u001b[0m\u001b[0mpyplot\u001b[0m \u001b[1;32mas\u001b[0m \u001b[0mplt\u001b[0m\u001b[1;33m\u001b[0m\u001b[1;33m\u001b[0m\u001b[0m\n",
      "\u001b[1;31mModuleNotFoundError\u001b[0m: No module named 'tensorflow'"
     ]
    }
   ],
   "source": [
    "### Create the LSTM model\n",
    "from tensorflow.keras.models import Sequential\n",
    "from tensorflow.keras.layers import Dense\n",
    "from tensorflow.keras.layers import LSTM\n",
    "import matplotlib.pyplot as plt"
   ]
  },
  {
   "cell_type": "code",
   "execution_count": 650,
   "metadata": {
    "id": "RGrKYQVef7sr"
   },
   "outputs": [],
   "source": [
    "dataset = df.gold_rate.values #numpy.ndarray\n",
    "dataset = dataset.astype('float32')\n",
    "dataset = np.reshape(dataset, (-1, 1))\n",
    "scaler = MinMaxScaler(feature_range=(0, 1))\n",
    "dataset = scaler.fit_transform(dataset)\n",
    "train_size = int(len(dataset) * 0.80)\n",
    "test_size = len(dataset) - train_size\n",
    "train, test = dataset[0:train_size,:], dataset[train_size:len(dataset),:]\n",
    "\n",
    "def create_dataset(dataset, look_back=1):\n",
    "    X, Y = [], []\n",
    "    for i in range(len(dataset)-look_back-1):\n",
    "        a = dataset[i:(i+look_back), 0]\n",
    "        X.append(a)\n",
    "        Y.append(dataset[i + look_back, 0])\n",
    "    return np.array(X), np.array(Y)\n",
    "    \n",
    "look_back = 100\n",
    "X_train, Y_train = create_dataset(train, look_back)\n",
    "X_test, Y_test = create_dataset(test, look_back)\n",
    "\n",
    "# reshape input to be [samples, time steps, features]\n",
    "X_train = np.reshape(X_train, (X_train.shape[0], 1, X_train.shape[1]))\n",
    "X_test = np.reshape(X_test, (X_test.shape[0], 1, X_test.shape[1]))"
   ]
  },
  {
   "cell_type": "code",
   "execution_count": 651,
   "metadata": {
    "colab": {
     "base_uri": "https://localhost:8080/"
    },
    "id": "W_LaoCUKXwYs",
    "outputId": "18b6811f-2604-49bb-d0ba-dd87973b0fa3"
   },
   "outputs": [
    {
     "data": {
      "text/plain": [
       "(2681, 1, 100)"
      ]
     },
     "execution_count": 651,
     "metadata": {},
     "output_type": "execute_result"
    }
   ],
   "source": [
    "X_test.shape"
   ]
  },
  {
   "cell_type": "code",
   "execution_count": 652,
   "metadata": {
    "id": "fh66_TatmIIo"
   },
   "outputs": [],
   "source": [
    "from keras.layers import Dropout"
   ]
  },
  {
   "cell_type": "code",
   "execution_count": 653,
   "metadata": {
    "id": "ZsQWMNNuRMk_"
   },
   "outputs": [],
   "source": [
    "from keras.callbacks import EarlyStopping"
   ]
  },
  {
   "cell_type": "code",
   "execution_count": 654,
   "metadata": {
    "colab": {
     "base_uri": "https://localhost:8080/"
    },
    "id": "pv83kb4-lraa",
    "outputId": "a972ebe5-b294-4b78-b48d-215ab83b5f87"
   },
   "outputs": [
    {
     "name": "stdout",
     "output_type": "stream",
     "text": [
      "Epoch 1/50\n",
      "221/221 [==============================] - 6s 9ms/step - loss: 0.0013 - val_loss: 0.0011\n",
      "Epoch 2/50\n",
      "221/221 [==============================] - 1s 5ms/step - loss: 0.0017 - val_loss: 0.0011\n",
      "Epoch 3/50\n",
      "221/221 [==============================] - 1s 5ms/step - loss: 9.2221e-04 - val_loss: 8.9060e-04\n",
      "Epoch 4/50\n",
      "221/221 [==============================] - 1s 5ms/step - loss: 6.1396e-04 - val_loss: 9.8278e-04\n",
      "Epoch 5/50\n",
      "221/221 [==============================] - 1s 6ms/step - loss: 4.2863e-04 - val_loss: 0.0021\n",
      "Epoch 6/50\n",
      "221/221 [==============================] - 1s 5ms/step - loss: 3.8432e-04 - val_loss: 0.0018\n",
      "Epoch 7/50\n",
      "221/221 [==============================] - 1s 5ms/step - loss: 3.7731e-04 - val_loss: 0.0019\n",
      "Epoch 8/50\n",
      "221/221 [==============================] - 1s 5ms/step - loss: 3.6609e-04 - val_loss: 0.0012\n",
      "Epoch 9/50\n",
      "221/221 [==============================] - 1s 5ms/step - loss: 4.4834e-04 - val_loss: 0.0013\n",
      "Epoch 10/50\n",
      "221/221 [==============================] - 1s 5ms/step - loss: 3.7357e-04 - val_loss: 8.7121e-04\n",
      "Epoch 11/50\n",
      "221/221 [==============================] - 1s 5ms/step - loss: 4.2451e-04 - val_loss: 9.1537e-04\n",
      "Epoch 12/50\n",
      "221/221 [==============================] - 1s 5ms/step - loss: 4.1572e-04 - val_loss: 0.0010\n",
      "Epoch 13/50\n",
      "221/221 [==============================] - 1s 5ms/step - loss: 2.8943e-04 - val_loss: 0.0013\n",
      "Epoch 14/50\n",
      "221/221 [==============================] - 1s 5ms/step - loss: 2.6203e-04 - val_loss: 0.0010\n",
      "Epoch 15/50\n",
      "221/221 [==============================] - 1s 5ms/step - loss: 2.7156e-04 - val_loss: 8.6252e-04\n",
      "Epoch 16/50\n",
      "221/221 [==============================] - 1s 5ms/step - loss: 4.5871e-04 - val_loss: 6.5545e-04\n",
      "Epoch 17/50\n",
      "221/221 [==============================] - 1s 5ms/step - loss: 4.1570e-04 - val_loss: 6.5839e-04\n",
      "Epoch 18/50\n",
      "221/221 [==============================] - 1s 5ms/step - loss: 2.9096e-04 - val_loss: 8.5727e-04\n",
      "Epoch 19/50\n",
      "221/221 [==============================] - 1s 5ms/step - loss: 2.4625e-04 - val_loss: 6.0643e-04\n",
      "Epoch 20/50\n",
      "221/221 [==============================] - 1s 5ms/step - loss: 2.5566e-04 - val_loss: 5.2673e-04\n",
      "Epoch 21/50\n",
      "221/221 [==============================] - 1s 5ms/step - loss: 2.7057e-04 - val_loss: 4.5314e-04\n",
      "Epoch 22/50\n",
      "221/221 [==============================] - 1s 5ms/step - loss: 3.1110e-04 - val_loss: 4.4612e-04\n",
      "Epoch 23/50\n",
      "221/221 [==============================] - 1s 5ms/step - loss: 3.0936e-04 - val_loss: 4.5216e-04\n",
      "Epoch 24/50\n",
      "221/221 [==============================] - 1s 6ms/step - loss: 3.1221e-04 - val_loss: 4.4950e-04\n",
      "Epoch 25/50\n",
      "221/221 [==============================] - 1s 6ms/step - loss: 2.8364e-04 - val_loss: 4.8974e-04\n",
      "Epoch 26/50\n",
      "221/221 [==============================] - 1s 6ms/step - loss: 2.9008e-04 - val_loss: 7.2783e-04\n",
      "Epoch 27/50\n",
      "221/221 [==============================] - 1s 5ms/step - loss: 2.4162e-04 - val_loss: 4.2305e-04\n",
      "Epoch 28/50\n",
      "221/221 [==============================] - 1s 5ms/step - loss: 2.9560e-04 - val_loss: 5.1533e-04\n",
      "Epoch 29/50\n",
      "221/221 [==============================] - 1s 5ms/step - loss: 2.1590e-04 - val_loss: 3.6634e-04\n",
      "Epoch 30/50\n",
      "221/221 [==============================] - 1s 5ms/step - loss: 2.5001e-04 - val_loss: 7.8129e-04\n",
      "Epoch 31/50\n",
      "221/221 [==============================] - 1s 5ms/step - loss: 3.1899e-04 - val_loss: 6.2994e-04\n",
      "Epoch 32/50\n",
      "221/221 [==============================] - 1s 5ms/step - loss: 2.8719e-04 - val_loss: 3.9421e-04\n",
      "Epoch 33/50\n",
      "221/221 [==============================] - 1s 6ms/step - loss: 2.2703e-04 - val_loss: 3.8669e-04\n",
      "Epoch 34/50\n",
      "221/221 [==============================] - 1s 5ms/step - loss: 2.1451e-04 - val_loss: 3.6003e-04\n",
      "Epoch 35/50\n",
      "221/221 [==============================] - 1s 5ms/step - loss: 1.9784e-04 - val_loss: 3.7022e-04\n",
      "Epoch 36/50\n",
      "221/221 [==============================] - 1s 5ms/step - loss: 1.9440e-04 - val_loss: 4.6236e-04\n",
      "Epoch 37/50\n",
      "221/221 [==============================] - 1s 6ms/step - loss: 1.8828e-04 - val_loss: 8.7724e-04\n",
      "Epoch 38/50\n",
      "221/221 [==============================] - 1s 6ms/step - loss: 2.8596e-04 - val_loss: 4.0159e-04\n",
      "Epoch 39/50\n",
      "221/221 [==============================] - 1s 6ms/step - loss: 2.4645e-04 - val_loss: 4.0798e-04\n",
      "Epoch 40/50\n",
      "221/221 [==============================] - 1s 5ms/step - loss: 2.8639e-04 - val_loss: 5.5426e-04\n",
      "Epoch 41/50\n",
      "221/221 [==============================] - 1s 5ms/step - loss: 2.6761e-04 - val_loss: 4.6617e-04\n",
      "Epoch 42/50\n",
      "221/221 [==============================] - 1s 5ms/step - loss: 2.3003e-04 - val_loss: 5.5052e-04\n",
      "Epoch 43/50\n",
      "221/221 [==============================] - 1s 5ms/step - loss: 2.4442e-04 - val_loss: 5.0344e-04\n",
      "Epoch 44/50\n",
      "221/221 [==============================] - 1s 5ms/step - loss: 2.1130e-04 - val_loss: 4.2910e-04\n",
      "Model: \"sequential_38\"\n",
      "_________________________________________________________________\n",
      "Layer (type)                 Output Shape              Param #   \n",
      "=================================================================\n",
      "lstm_76 (LSTM)               (None, 1, 50)             30200     \n",
      "_________________________________________________________________\n",
      "lstm_77 (LSTM)               (None, 50)                20200     \n",
      "_________________________________________________________________\n",
      "dropout_38 (Dropout)         (None, 50)                0         \n",
      "_________________________________________________________________\n",
      "dense_38 (Dense)             (None, 1)                 51        \n",
      "=================================================================\n",
      "Total params: 50,451\n",
      "Trainable params: 50,451\n",
      "Non-trainable params: 0\n",
      "_________________________________________________________________\n"
     ]
    }
   ],
   "source": [
    "model = Sequential()\n",
    "model.add(LSTM(50,return_sequences=True,activation='relu', input_shape=(X_train.shape[1], X_train.shape[2])))\n",
    "model.add(LSTM(50))\n",
    "model.add(Dropout(0.2))\n",
    "model.add(Dense(1))\n",
    "model.compile(loss='mean_squared_error', optimizer='adam')\n",
    "\n",
    "model.fit(X_train, Y_train, epochs=50, batch_size=50, validation_data=(X_test, Y_test), \n",
    "                   callbacks=[EarlyStopping(monitor='val_loss', patience=10)], verbose=1, shuffle=False)\n",
    "\n",
    "model.summary()"
   ]
  },
  {
   "cell_type": "code",
   "execution_count": 655,
   "metadata": {
    "colab": {
     "base_uri": "https://localhost:8080/"
    },
    "id": "WIv-K-K9lwZU",
    "outputId": "c683fa35-4bf3-4900-f337-9cbbc1ba172e"
   },
   "outputs": [
    {
     "name": "stdout",
     "output_type": "stream",
     "text": [
      "Train Mean Absolute Error: 39.40008452025652\n",
      "Train Root Mean Squared Error: 42.6757501689063\n",
      "Test Mean Absolute Error: 30.419561651004916\n",
      "Test Root Mean Squared Error: 41.98284430085283\n"
     ]
    }
   ],
   "source": [
    "train_predict = model.predict(X_train)\n",
    "test_predict = model.predict(X_test)\n",
    "# invert predictions\n",
    "train_predict = scaler.inverse_transform(train_predict)\n",
    "Y_train = scaler.inverse_transform([Y_train])\n",
    "test_predict = scaler.inverse_transform(test_predict)\n",
    "Y_test = scaler.inverse_transform([Y_test])\n",
    "print('Train Mean Absolute Error:', mean_absolute_error(Y_train[0], train_predict[:,0]))\n",
    "print('Train Root Mean Squared Error:',np.sqrt(mean_squared_error(Y_train[0], train_predict[:,0])))\n",
    "print('Test Mean Absolute Error:', mean_absolute_error(Y_test[0], test_predict[:,0]))\n",
    "print('Test Root Mean Squared Error:',np.sqrt(mean_squared_error(Y_test[0], test_predict[:,0])))"
   ]
  },
  {
   "cell_type": "code",
   "execution_count": 656,
   "metadata": {
    "colab": {
     "base_uri": "https://localhost:8080/"
    },
    "id": "YKnpESk33vZ-",
    "outputId": "b6f45eae-ec3a-4034-c282-a4dcc1bab7bd"
   },
   "outputs": [
    {
     "data": {
      "text/plain": [
       "(2681, 1)"
      ]
     },
     "execution_count": 656,
     "metadata": {},
     "output_type": "execute_result"
    }
   ],
   "source": [
    "test_predict.shape"
   ]
  },
  {
   "cell_type": "code",
   "execution_count": 657,
   "metadata": {
    "id": "SatpsWd9nFvJ"
   },
   "outputs": [],
   "source": [
    "import seaborn as sns"
   ]
  },
  {
   "cell_type": "code",
   "execution_count": 658,
   "metadata": {
    "colab": {
     "base_uri": "https://localhost:8080/",
     "height": 316
    },
    "id": "1uvDSrYTm2tQ",
    "outputId": "e04cb418-80b2-4d8c-e139-68db54c68255"
   },
   "outputs": [
    {
     "data": {
      "image/png": "[encoded data removed]",
      "text/plain": [
       "<Figure size 576x288 with 1 Axes>"
      ]
     },
     "metadata": {
      "needs_background": "light"
     },
     "output_type": "display_data"
    }
   ],
   "source": [
    "aa=[x for x in range(2681)]\n",
    "plt.figure(figsize=(8,4))\n",
    "plt.plot(aa, Y_test[0][:2681], marker='.', label=\"actual\")\n",
    "plt.plot(aa, test_predict[:,0][:2681], 'r', label=\"prediction\")\n",
    "# plt.tick_params(left=False, labelleft=True) #remove ticks\n",
    "plt.tight_layout()\n",
    "sns.despine(top=True)\n",
    "plt.subplots_adjust(left=0.07)\n",
    "plt.ylabel('Global_active_power', size=15)\n",
    "plt.xlabel('Time step', size=15)\n",
    "plt.legend(fontsize=15)\n",
    "plt.show();"
   ]
  },
  {
   "cell_type": "code",
   "execution_count": 659,
   "metadata": {
    "colab": {
     "base_uri": "https://localhost:8080/"
    },
    "id": "LiwGvxzcnDNV",
    "outputId": "7d92481b-66a6-44a1-eb31-e931ed4516d1"
   },
   "outputs": [
    {
     "data": {
      "text/plain": [
       "0.967184398357922"
      ]
     },
     "execution_count": 659,
     "metadata": {},
     "output_type": "execute_result"
    }
   ],
   "source": [
    "from sklearn.metrics import r2_score\n",
    "r2_score(Y_train[0],train_predict[:,0])"
   ]
  },
  {
   "cell_type": "code",
   "execution_count": 660,
   "metadata": {
    "colab": {
     "base_uri": "https://localhost:8080/"
    },
    "id": "TT6Xa9LonbOs",
    "outputId": "cca3f0fc-842c-47bf-ffb8-6114c1c2b17d"
   },
   "outputs": [
    {
     "data": {
      "text/plain": [
       "0.9672930917582754"
      ]
     },
     "execution_count": 660,
     "metadata": {},
     "output_type": "execute_result"
    }
   ],
   "source": [
    "r2_score(Y_test[0], test_predict[:,0])"
   ]
  },
  {
   "cell_type": "code",
   "execution_count": 661,
   "metadata": {
    "colab": {
     "base_uri": "https://localhost:8080/",
     "height": 265
    },
    "id": "Gf-MKNKlttup",
    "outputId": "0ed04a49-f8ca-43a2-eca0-047e0246c58b"
   },
   "outputs": [
    {
     "data": {
      "image/png": "[encoded data removed]",
      "text/plain": [
       "<Figure size 432x288 with 1 Axes>"
      ]
     },
     "metadata": {
      "needs_background": "light"
     },
     "output_type": "display_data"
    }
   ],
   "source": [
    "### Plotting \n",
    "# shift train predictions for plotting\n",
    "look_back=100\n",
    "trainPredictPlot = np.empty_like(dataset)\n",
    "trainPredictPlot[:, :] = np.nan\n",
    "trainPredictPlot[look_back:len(train_predict)+look_back, :] = train_predict\n",
    "# shift test predictions for plotting\n",
    "testPredictPlot = np.empty_like(dataset)\n",
    "testPredictPlot[:, :] = np.nan\n",
    "testPredictPlot[len(train_predict)+(look_back*2)+1:len(dataset)-1, :] = test_predict\n",
    "# plot baseline and predictions\n",
    "plt.plot(scaler.inverse_transform(dataset))\n",
    "plt.plot(trainPredictPlot)\n",
    "plt.plot(testPredictPlot)\n",
    "plt.show()"
   ]
  },
  {
   "cell_type": "code",
   "execution_count": 662,
   "metadata": {
    "colab": {
     "base_uri": "https://localhost:8080/"
    },
    "id": "W5S_ThEqpbW4",
    "outputId": "54e0d19a-fd6c-4adf-abb2-08668d59862a"
   },
   "outputs": [
    {
     "data": {
      "text/plain": [
       "(13908, 1)"
      ]
     },
     "execution_count": 662,
     "metadata": {},
     "output_type": "execute_result"
    }
   ],
   "source": [
    "dataset.shape"
   ]
  },
  {
   "cell_type": "code",
   "execution_count": 663,
   "metadata": {
    "colab": {
     "base_uri": "https://localhost:8080/"
    },
    "id": "2P68pPYfr_4R",
    "outputId": "4ea36c85-d2f1-4db6-f96a-669f6395617f"
   },
   "outputs": [
    {
     "data": {
      "text/plain": [
       "(2782, 1)"
      ]
     },
     "execution_count": 663,
     "metadata": {},
     "output_type": "execute_result"
    }
   ],
   "source": [
    "test.shape"
   ]
  },
  {
   "cell_type": "code",
   "execution_count": 664,
   "metadata": {
    "id": "5GnXrGiZx9gf"
   },
   "outputs": [],
   "source": [
    "x_input=test[2682:].reshape(1,-1)"
   ]
  },
  {
   "cell_type": "code",
   "execution_count": 665,
   "metadata": {
    "colab": {
     "base_uri": "https://localhost:8080/"
    },
    "id": "sx_1Eykl0bEV",
    "outputId": "b2caa634-cc98-4868-f35e-857c75eca03d"
   },
   "outputs": [
    {
     "data": {
      "text/plain": [
       "(1, 100)"
      ]
     },
     "execution_count": 665,
     "metadata": {},
     "output_type": "execute_result"
    }
   ],
   "source": [
    "x_input.shape"
   ]
  },
  {
   "cell_type": "code",
   "execution_count": 666,
   "metadata": {
    "id": "uhOmk1A5x-IB"
   },
   "outputs": [],
   "source": [
    "\n",
    "temp_input=list(x_input)\n",
    "temp_input=temp_input[0].tolist()"
   ]
  },
  {
   "cell_type": "code",
   "execution_count": 667,
   "metadata": {
    "colab": {
     "base_uri": "https://localhost:8080/"
    },
    "id": "BuAxfPCZ1BnB",
    "outputId": "58fcc6f2-3255-4870-e6a4-bf2b3a36019d"
   },
   "outputs": [
    {
     "name": "stdout",
     "output_type": "stream",
     "text": [
      "[0.8855319]\n",
      "101\n",
      "1 th day price [[0.8861387]]\n",
      "2 th day price [[0.8870479]]\n",
      "3 th day price [[0.88789296]]\n",
      "4 th day price [[0.8888939]]\n",
      "5 th day price [[0.8905857]]\n",
      "6 th day price [[0.8908568]]\n",
      "7 th day price [[0.8919998]]\n",
      "8 th day price [[0.89268595]]\n",
      "9 th day price [[0.8928506]]\n",
      "10 th day price [[0.89338183]]\n",
      "11 th day price [[0.89503]]\n",
      "12 th day price [[0.8949699]]\n",
      "13 th day price [[0.89662856]]\n",
      "14 th day price [[0.89795977]]\n",
      "15 th day price [[0.89910835]]\n",
      "16 th day price [[0.9004119]]\n",
      "17 th day price [[0.90220565]]\n",
      "18 th day price [[0.90340745]]\n",
      "19 th day price [[0.90458524]]\n",
      "20 th day price [[0.9056558]]\n",
      "21 th day price [[0.9073726]]\n",
      "22 th day price [[0.90839267]]\n",
      "23 th day price [[0.9101409]]\n",
      "24 th day price [[0.9110564]]\n",
      "25 th day price [[0.91258293]]\n",
      "26 th day price [[0.91399163]]\n",
      "27 th day price [[0.9152897]]\n",
      "28 th day price [[0.916212]]\n",
      "29 th day price [[0.9180986]]\n",
      "[[0.8855319023132324], [0.8861386775970459], [0.8870478868484497], [0.8878929615020752], [0.8888939023017883], [0.890585720539093], [0.8908568024635315], [0.8919997811317444], [0.8926859498023987], [0.8928505778312683], [0.8933818340301514], [0.8950300216674805], [0.8949698805809021], [0.8966285586357117], [0.8979597687721252], [0.899108350276947], [0.9004119038581848], [0.9022056460380554], [0.9034074544906616], [0.9045852422714233], [0.9056558012962341], [0.9073725938796997], [0.9083926677703857], [0.910140872001648], [0.911056399345398], [0.9125829339027405], [0.9139916300773621], [0.9152897000312805], [0.9162120223045349], [0.9180986285209656]]\n"
     ]
    }
   ],
   "source": [
    "from numpy import array\n",
    "\n",
    "lst_output=[]\n",
    "n_steps=100\n",
    "i=0\n",
    "while(i<30):\n",
    "    \n",
    "    if(len(temp_input)>100):\n",
    "        #print(temp_input)\n",
    "        x_input=np.array(temp_input[1:])\n",
    "        x_input=x_input.reshape(1,-1)\n",
    "        x_input = x_input.reshape((1, 1,100))\n",
    "        #print(x_input)\n",
    "        yhat = model.predict(x_input, verbose=0)\n",
    "        print(\"{} th day price {}\".format(i,yhat))\n",
    "        temp_input.extend(yhat[0].tolist())\n",
    "        temp_input=temp_input[1:]\n",
    "        #print(temp_input)\n",
    "        lst_output.extend(yhat.tolist())\n",
    "        i=i+1\n",
    "    else:\n",
    "        x_input = x_input.reshape((1,1,100))\n",
    "        yhat = model.predict(x_input, verbose=0)\n",
    "        print(yhat[0])\n",
    "        temp_input.extend(yhat[0].tolist())\n",
    "        print(len(temp_input))\n",
    "        lst_output.extend(yhat.tolist())\n",
    "        i=i+1\n",
    "    \n",
    "\n",
    "print(lst_output)"
   ]
  },
  {
   "cell_type": "code",
   "execution_count": 668,
   "metadata": {
    "colab": {
     "base_uri": "https://localhost:8080/"
    },
    "id": "ueeHuwRdz-gv",
    "outputId": "2865eee5-fc60-41c2-efe2-96dfb355e369"
   },
   "outputs": [
    {
     "data": {
      "text/plain": [
       "30"
      ]
     },
     "execution_count": 668,
     "metadata": {},
     "output_type": "execute_result"
    }
   ],
   "source": [
    "len(lst_output)"
   ]
  },
  {
   "cell_type": "code",
   "execution_count": 669,
   "metadata": {
    "id": "0yNs01ON5RXB"
   },
   "outputs": [],
   "source": [
    "nextday_predictions=scaler.inverse_transform(lst_output)"
   ]
  },
  {
   "cell_type": "code",
   "execution_count": 670,
   "metadata": {
    "colab": {
     "base_uri": "https://localhost:8080/"
    },
    "id": "LA4zA0Dp5krW",
    "outputId": "ce6995c9-e995-40e6-bd3d-72fcddf555e3"
   },
   "outputs": [
    {
     "data": {
      "text/plain": [
       "array([[1829.50467808],\n",
       "       [1830.73444474],\n",
       "       [1832.57716189],\n",
       "       [1834.28989585],\n",
       "       [1836.31852763],\n",
       "       [1839.74737801],\n",
       "       [1840.29678653],\n",
       "       [1842.61329001],\n",
       "       [1844.00396524],\n",
       "       [1844.33762099],\n",
       "       [1845.41433123],\n",
       "       [1848.75475438],\n",
       "       [1848.63286493],\n",
       "       [1851.99454927],\n",
       "       [1854.69254618],\n",
       "       [1857.02040508],\n",
       "       [1859.66234976],\n",
       "       [1863.29777194],\n",
       "       [1865.73350722],\n",
       "       [1868.12055921],\n",
       "       [1870.29028798],\n",
       "       [1873.7697545 ],\n",
       "       [1875.83716379],\n",
       "       [1879.38029308],\n",
       "       [1881.23581526],\n",
       "       [1884.32968107],\n",
       "       [1887.18472088],\n",
       "       [1889.81555175],\n",
       "       [1891.6848454 ],\n",
       "       [1895.50847745]])"
      ]
     },
     "execution_count": 670,
     "metadata": {},
     "output_type": "execute_result"
    }
   ],
   "source": [
    "nextday_predictions"
   ]
  },
  {
   "cell_type": "code",
   "execution_count": 671,
   "metadata": {
    "id": "dY_KEvIG6f4r"
   },
   "outputs": [],
   "source": [
    "day_new=np.arange(1,101)\n",
    "day_pred=np.arange(101,131)"
   ]
  },
  {
   "cell_type": "code",
   "execution_count": 672,
   "metadata": {
    "colab": {
     "base_uri": "https://localhost:8080/"
    },
    "id": "5ON7dsJ07FJL",
    "outputId": "daf710d3-1095-48f9-9eac-fa96e21bc22b"
   },
   "outputs": [
    {
     "data": {
      "text/plain": [
       "13908"
      ]
     },
     "execution_count": 672,
     "metadata": {},
     "output_type": "execute_result"
    }
   ],
   "source": [
    "len(dataset)"
   ]
  },
  {
   "cell_type": "code",
   "execution_count": 673,
   "metadata": {
    "colab": {
     "base_uri": "https://localhost:8080/",
     "height": 282
    },
    "id": "COHTcco37KgG",
    "outputId": "055ab22e-2930-4f4d-a968-24d7969a7012"
   },
   "outputs": [
    {
     "data": {
      "text/plain": [
       "[<matplotlib.lines.Line2D at 0x7efe6b8c1550>]"
      ]
     },
     "execution_count": 673,
     "metadata": {},
     "output_type": "execute_result"
    },
    {
     "data": {
      "image/png": "[encoded data removed]",
      "text/plain": [
       "<Figure size 432x288 with 1 Axes>"
      ]
     },
     "metadata": {
      "needs_background": "light"
     },
     "output_type": "display_data"
    }
   ],
   "source": [
    "plt.plot(day_new,scaler.inverse_transform(dataset[13808:]))\n",
    "plt.plot(day_pred,scaler.inverse_transform(lst_output))\n"
   ]
  },
  {
   "cell_type": "code",
   "execution_count": 680,
   "metadata": {
    "id": "Hzfog4Vd7aCU"
   },
   "outputs": [],
   "source": [
    "df3=dataset.tolist()\n",
    "df3.extend(lst_output)"
   ]
  },
  {
   "cell_type": "code",
   "execution_count": 675,
   "metadata": {
    "id": "IidxXswY7tJr"
   },
   "outputs": [],
   "source": [
    "df3=scaler.inverse_transform(df3).tolist()"
   ]
  },
  {
   "cell_type": "code",
   "execution_count": 680,
   "metadata": {
    "colab": {
     "base_uri": "https://localhost:8080/",
     "height": 391
    },
    "id": "yHt6QNwZ72GI",
    "outputId": "1c044fd5-4a95-4e4f-b0c2-711e239c3668"
   },
   "outputs": [
    {
     "data": {
      "text/plain": [
       "[<matplotlib.lines.Line2D at 0x7efe703f3790>]"
      ]
     },
     "execution_count": 680,
     "metadata": {},
     "output_type": "execute_result"
    },
    {
     "data": {
      "image/png": "[encoded data removed]",
      "text/plain": [
       "<Figure size 720x432 with 1 Axes>"
      ]
     },
     "metadata": {
      "needs_background": "light"
     },
     "output_type": "display_data"
    }
   ],
   "source": [
    "plt.figure(figsize=(10,6))\n",
    "plt.plot(df3)"
   ]
  },
  {
   "cell_type": "code",
   "execution_count": 677,
   "metadata": {
    "id": "Xbr9wAjK8F6m"
   },
   "outputs": [],
   "source": [
    "nextday_predictions=scaler.inverse_transform(lst_output)"
   ]
  },
  {
   "cell_type": "code",
   "execution_count": 678,
   "metadata": {
    "colab": {
     "base_uri": "https://localhost:8080/"
    },
    "id": "boIrsnhd7_5R",
    "outputId": "8e46bdb0-4fea-4e60-fb5b-7ae1d435ea7d"
   },
   "outputs": [
    {
     "data": {
      "text/plain": [
       "array([[1829.50467808],\n",
       "       [1830.73444474],\n",
       "       [1832.57716189],\n",
       "       [1834.28989585],\n",
       "       [1836.31852763],\n",
       "       [1839.74737801],\n",
       "       [1840.29678653],\n",
       "       [1842.61329001],\n",
       "       [1844.00396524],\n",
       "       [1844.33762099],\n",
       "       [1845.41433123],\n",
       "       [1848.75475438],\n",
       "       [1848.63286493],\n",
       "       [1851.99454927],\n",
       "       [1854.69254618],\n",
       "       [1857.02040508],\n",
       "       [1859.66234976],\n",
       "       [1863.29777194],\n",
       "       [1865.73350722],\n",
       "       [1868.12055921],\n",
       "       [1870.29028798],\n",
       "       [1873.7697545 ],\n",
       "       [1875.83716379],\n",
       "       [1879.38029308],\n",
       "       [1881.23581526],\n",
       "       [1884.32968107],\n",
       "       [1887.18472088],\n",
       "       [1889.81555175],\n",
       "       [1891.6848454 ],\n",
       "       [1895.50847745]])"
      ]
     },
     "execution_count": 678,
     "metadata": {},
     "output_type": "execute_result"
    }
   ],
   "source": [
    "nextday_predictions"
   ]
  }
 ],
 "metadata": {
  "colab": {
   "collapsed_sections": [],
   "name": "Untitled5.ipynb",
   "provenance": []
  },
  "kernelspec": {
   "display_name": "Python 3",
   "language": "python",
   "name": "python3"
  },
  "language_info": {
   "codemirror_mode": {
    "name": "ipython",
    "version": 3
   },
   "file_extension": ".py",
   "mimetype": "text/x-python",
   "name": "python",
   "nbconvert_exporter": "python",
   "pygments_lexer": "ipython3",
   "version": "3.8.5"
  }
 },
 "nbformat": 4,
 "nbformat_minor": 1
}
